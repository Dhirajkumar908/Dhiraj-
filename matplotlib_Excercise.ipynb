{
  "nbformat": 4,
  "nbformat_minor": 0,
  "metadata": {
    "colab": {
      "name": "matplotlib Excercise.ipynb",
      "private_outputs": true,
      "provenance": [],
      "authorship_tag": "ABX9TyP3hdBSPOWopQ4MHQAdymLn",
      "include_colab_link": true
    },
    "kernelspec": {
      "name": "python3",
      "display_name": "Python 3"
    },
    "accelerator": "GPU"
  },
  "cells": [
    {
      "cell_type": "markdown",
      "metadata": {
        "id": "view-in-github",
        "colab_type": "text"
      },
      "source": [
        "<a href=\"https://colab.research.google.com/github/Dhirajkumar908/Dhiraj-/blob/master/matplotlib_Excercise.ipynb\" target=\"_parent\"><img src=\"https://colab.research.google.com/assets/colab-badge.svg\" alt=\"Open In Colab\"/></a>"
      ]
    },
    {
      "cell_type": "code",
      "metadata": {
        "id": "GbSFF0_bnD0u"
      },
      "source": [
        "import numpy as np \r\n",
        "x = np.arange(0,100)\r\n",
        "y = x*2\r\n",
        "z =x**2"
      ],
      "execution_count": null,
      "outputs": []
    },
    {
      "cell_type": "code",
      "metadata": {
        "id": "WZ6s_zCvn0wi"
      },
      "source": [
        "import matplotlib.pyplot as plt\r\n",
        "%matplotlib inline"
      ],
      "execution_count": null,
      "outputs": []
    },
    {
      "cell_type": "code",
      "metadata": {
        "id": "Lwz2mm-DoJcU"
      },
      "source": [
        "plt.show()"
      ],
      "execution_count": null,
      "outputs": []
    },
    {
      "cell_type": "code",
      "metadata": {
        "id": "F5J34qkRqdU3"
      },
      "source": [
        "fig = plt.figure()\r\n",
        "\r\n",
        "ax = fig.add_axes([0,0,1,1])\r\n",
        "ax.plot(x,y)\r\n",
        "ax.set_xlabel('x')\r\n",
        "ax.set_ylabel('y')\r\n",
        "ax.set_title('title')"
      ],
      "execution_count": null,
      "outputs": []
    },
    {
      "cell_type": "code",
      "metadata": {
        "id": "HUYcyqVotwyn"
      },
      "source": [
        "fig = plt.figure()\r\n",
        "\r\n",
        "ax1=fig.add_axes([0,0,1,1])\r\n",
        "ax2=fig.add_axes([0,2,5,2,2])\r\n",
        "\r\n",
        "ax1.plot(x,y)\r\n",
        "ax2.plot(x,y)"
      ],
      "execution_count": null,
      "outputs": []
    },
    {
      "cell_type": "code",
      "metadata": {
        "id": "MNlcTE_mvi44"
      },
      "source": [
        "fig = plt.figure()\r\n",
        "\r\n",
        "ax = fig.add_axes([0,0,1,1])\r\n",
        "ax2 = fig.add_axes([.2,.5,.4,.4])\r\n",
        "\r\n",
        "ax.plot(x,z)\r\n",
        "ax.set_xlabel('x')\r\n",
        "ax.set_ylabel('z')"
      ],
      "execution_count": null,
      "outputs": []
    },
    {
      "cell_type": "code",
      "metadata": {
        "id": "j8ZAWHB-wZ0h"
      },
      "source": [
        ""
      ],
      "execution_count": null,
      "outputs": []
    }
  ]
}